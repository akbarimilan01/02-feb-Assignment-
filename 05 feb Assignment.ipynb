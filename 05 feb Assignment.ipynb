{
 "cells": [
  {
   "cell_type": "markdown",
   "id": "8fc273f2-5e37-4582-88d7-50dcf240b523",
   "metadata": {},
   "source": [
    "Q1. Explain Class and Object with respect to Object-Oriented Programming. Give a suitable example."
   ]
  },
  {
   "cell_type": "code",
   "execution_count": 1,
   "id": "0488ed38-39ed-4854-bdd3-68de62d00098",
   "metadata": {},
   "outputs": [],
   "source": [
    "\"\"\"\n",
    "ans : In object-oriented programming, a class is a blueprint for creating objects. A class is a collection of data (attributes) and methods that define the\n",
    "behavior of objects of that class. An object, on the other hand, is an instance of a class that can store data and execute methods.\n",
    "\"\"\"\n",
    "# Example \n",
    "class Person:\n",
    "    def __init__(self, name, age, occupation):\n",
    "        self.name = name\n",
    "        self.age = age\n",
    "        self.occupation = occupation\n",
    "\n",
    "    def get_details(self):\n",
    "        return f\"{self.name} is {self.age} years old and works as a {self.occupation}\" # using f string \n",
    "\n"
   ]
  },
  {
   "cell_type": "code",
   "execution_count": 2,
   "id": "f8bd25ad-f067-4cf1-b6b7-39a20d136d6e",
   "metadata": {},
   "outputs": [],
   "source": [
    "person1 = Person(\"Alice\", 28, \"software developer\")\n",
    "person2 = Person(\"Bob\", 35, \"teacher\")"
   ]
  },
  {
   "cell_type": "code",
   "execution_count": 3,
   "id": "e5a86a3d-316f-44d8-9e90-ede3d6c51a1c",
   "metadata": {},
   "outputs": [
    {
     "name": "stdout",
     "output_type": "stream",
     "text": [
      "Alice is 28 years old and works as a software developer\n",
      "Bob is 35 years old and works as a teacher\n"
     ]
    }
   ],
   "source": [
    "print(person1.get_details())\n",
    "print(person2.get_details())"
   ]
  },
  {
   "cell_type": "markdown",
   "id": "a3b1d1ac-b0bb-4101-9e4d-5f7dbb7496f7",
   "metadata": {},
   "source": [
    "Q2. Name the four pillars of OOPs."
   ]
  },
  {
   "cell_type": "code",
   "execution_count": 4,
   "id": "d2b42be0-a863-43fd-b578-30d074ca9447",
   "metadata": {},
   "outputs": [
    {
     "data": {
      "text/plain": [
       "' \\n(1) Encapsulation\\n(2) Inheritance\\n(3) Polymorphism\\n(4) Abstraction\\n'"
      ]
     },
     "execution_count": 4,
     "metadata": {},
     "output_type": "execute_result"
    }
   ],
   "source": [
    "''' \n",
    "(1) Encapsulation\n",
    "(2) Inheritance\n",
    "(3) Polymorphism\n",
    "(4) Abstraction\n",
    "'''"
   ]
  },
  {
   "cell_type": "markdown",
   "id": "c6ff9c86-2013-4178-bdc8-1ef31f439580",
   "metadata": {},
   "source": [
    "Q3. Explain why the __init__() function is used. Give a suitable example."
   ]
  },
  {
   "cell_type": "code",
   "execution_count": 5,
   "id": "e2578e35-d4c6-406c-b2fc-c1ced55f002a",
   "metadata": {},
   "outputs": [],
   "source": [
    "\"\"\"\n",
    "ans : The __init__() function is a special method in Python classes that is used to initialize the attributes of an object when it is created. The __init__()\n",
    "method is called a constructor, as it constructs or creates an object and sets its initial state.\n",
    "The __init__() method is called automatically when an object is created from a class using the class name followed by parentheses. Inside the __init__() method,\n",
    "we define the attributes that the object will have and initialize them with default or user-defined values.\n",
    "\"\"\"\n",
    "# Example\n",
    "class Rectangle:\n",
    "    def __init__(self, length, width):\n",
    "        self.length = length\n",
    "        self.width = width\n"
   ]
  },
  {
   "cell_type": "code",
   "execution_count": 6,
   "id": "5e3dfa6f-d2a8-433f-b0e8-f443ae873fc1",
   "metadata": {},
   "outputs": [],
   "source": [
    "rectangle1 = Rectangle(4, 6)\n",
    "rectangle2 = Rectangle(3, 5)"
   ]
  },
  {
   "cell_type": "code",
   "execution_count": 7,
   "id": "b91c15b4-1127-4157-b90a-cad0b850c097",
   "metadata": {},
   "outputs": [
    {
     "name": "stdout",
     "output_type": "stream",
     "text": [
      "4 6\n"
     ]
    }
   ],
   "source": [
    "print(rectangle1.length ,rectangle1.width)"
   ]
  },
  {
   "cell_type": "markdown",
   "id": "df9e90d8-0153-4615-ac56-357a5060a905",
   "metadata": {},
   "source": [
    "Q4. Why self is used in OOPs?"
   ]
  },
  {
   "cell_type": "markdown",
   "id": "7b411b2c-f724-4cd7-adb0-1388309839d0",
   "metadata": {},
   "source": [
    "ans : In Python, when a class method is called on an instance (object) of a class, Python automatically passes the instance as the first parameter to the method.This parameter is named self by convention, but it can be named anything else."
   ]
  },
  {
   "cell_type": "markdown",
   "id": "e994b023-7579-4efb-b91f-98bb37a1a3ca",
   "metadata": {},
   "source": [
    "Q5. What is inheritance? Give an example for each type of inheritance."
   ]
  },
  {
   "cell_type": "code",
   "execution_count": 8,
   "id": "f2abb290-5df4-461a-a817-eb47d51d3df9",
   "metadata": {},
   "outputs": [
    {
     "data": {
      "text/plain": [
       "'\\nans : Inheritance is a mechanism in object-oriented programming where one class (the child or derived class) inherits properties and behavior from another\\nclass (the parent or base class). The child class can use the methods and attributes of the parent class without having to redefine them, which makes code\\nreuse easier and allows for more efficient and modular code.\\nthere are four types of inheritance,\\n(1) single inheritance\\n(2) multiple inheritance\\n(3) multi level inheritance\\n(4) hierarchical inheritance\\n'"
      ]
     },
     "execution_count": 8,
     "metadata": {},
     "output_type": "execute_result"
    }
   ],
   "source": [
    "\"\"\"\n",
    "ans : Inheritance is a mechanism in object-oriented programming where one class (the child or derived class) inherits properties and behavior from another\n",
    "class (the parent or base class). The child class can use the methods and attributes of the parent class without having to redefine them, which makes code\n",
    "reuse easier and allows for more efficient and modular code.\n",
    "there are four types of inheritance,\n",
    "(1) single inheritance\n",
    "(2) multiple inheritance\n",
    "(3) multi level inheritance\n",
    "(4) hierarchical inheritance\n",
    "\"\"\""
   ]
  },
  {
   "cell_type": "code",
   "execution_count": 9,
   "id": "833d7b08-1ebc-4f9e-987e-c193462627ac",
   "metadata": {},
   "outputs": [
    {
     "data": {
      "text/plain": [
       "'vegetarian'"
      ]
     },
     "execution_count": 9,
     "metadata": {},
     "output_type": "execute_result"
    }
   ],
   "source": [
    "# Example of single inheritance ;\n",
    "class Animal:\n",
    "    def __init__(self,name):\n",
    "        self.name=name\n",
    "    \n",
    "    def food(self):\n",
    "        pass\n",
    "class cow(Animal):\n",
    "    def food(self):\n",
    "        return \"vegetarian\"\n",
    "class tiger(Animal):\n",
    "    def food(self):\n",
    "        return \"non vegetarian\"\n",
    "    \n",
    "Cow = cow(\"swati\")\n",
    "Cow.name\n",
    "Cow.food()"
   ]
  },
  {
   "cell_type": "code",
   "execution_count": 10,
   "id": "45d5cac0-e47c-45f0-93f7-ac8fc8113f4d",
   "metadata": {},
   "outputs": [
    {
     "data": {
      "text/plain": [
       "'non vegetarian'"
      ]
     },
     "execution_count": 10,
     "metadata": {},
     "output_type": "execute_result"
    }
   ],
   "source": [
    "Tiger = tiger(\"targen\")\n",
    "Tiger.name\n",
    "Tiger.food()"
   ]
  },
  {
   "cell_type": "code",
   "execution_count": 11,
   "id": "7fbd5c81-7a37-4e5e-a1ce-ce9008f5c61f",
   "metadata": {},
   "outputs": [
    {
     "data": {
      "text/plain": [
       "' drive on the road'"
      ]
     },
     "execution_count": 11,
     "metadata": {},
     "output_type": "execute_result"
    }
   ],
   "source": [
    "# multiple inheritance example\n",
    "class vehical :\n",
    "    def drive(self):\n",
    "        pass\n",
    "    \n",
    "class flyable:\n",
    "    def fly(self):\n",
    "        pass\n",
    "class car(vehical):\n",
    "    def drive(self):\n",
    "        return \" drive on the road\"\n",
    "    \n",
    "class plan(flyable):\n",
    "    def fly(self):\n",
    "        return \"flying on the sky\"\n",
    "    \n",
    "class flyingcar(vehical,flyable):\n",
    "    def drive(self):\n",
    "        return \"Driving on the road and flying in the sky\"\n",
    "    \n",
    "\n",
    "Car = car()\n",
    "Car.drive()"
   ]
  },
  {
   "cell_type": "code",
   "execution_count": 12,
   "id": "5c836592-1e80-4d3d-973b-7d4711b5cd7d",
   "metadata": {},
   "outputs": [
    {
     "data": {
      "text/plain": [
       "'flying on the sky'"
      ]
     },
     "execution_count": 12,
     "metadata": {},
     "output_type": "execute_result"
    }
   ],
   "source": [
    "Plan = plan()\n",
    "Plan.fly()"
   ]
  },
  {
   "cell_type": "code",
   "execution_count": 13,
   "id": "11bb220e-5f29-4d75-9839-cf210af474cd",
   "metadata": {},
   "outputs": [
    {
     "data": {
      "text/plain": [
       "'Driving on the road and flying in the sky'"
      ]
     },
     "execution_count": 13,
     "metadata": {},
     "output_type": "execute_result"
    }
   ],
   "source": [
    "Flyingcar = flyingcar()\n",
    "Flyingcar.drive()"
   ]
  },
  {
   "cell_type": "code",
   "execution_count": 14,
   "id": "978f6df4-1fa7-4c91-8b41-fac4e4b2738b",
   "metadata": {},
   "outputs": [
    {
     "name": "stdout",
     "output_type": "stream",
     "text": [
      "employee name is : Khush\n",
      "salary: 10000\n",
      "destination : data science\n"
     ]
    }
   ],
   "source": [
    "# multi level inheritance example\n",
    "class Employee:\n",
    "    def employee_name (self):\n",
    "        print(\"employee name is : Khush\")\n",
    "class salary(Employee):\n",
    "    def salary(self):\n",
    "        print(\"salary: 10000\")\n",
    "        \n",
    "class destination(salary):\n",
    "    def desig(self):\n",
    "        print(\"destination : data science\")\n",
    "        \n",
    "company = destination()\n",
    "company.employee_name()\n",
    "company.salary()\n",
    "company.desig()"
   ]
  },
  {
   "cell_type": "code",
   "execution_count": 15,
   "id": "440fb2f5-55fe-45cd-b3bf-83eb84ed11a8",
   "metadata": {},
   "outputs": [
    {
     "name": "stdout",
     "output_type": "stream",
     "text": [
      "this is a function is in  parant class\n",
      "this is a function is in child1 class\n",
      "this is a function is in  parant class\n",
      "this is a function is in child2 class\n"
     ]
    }
   ],
   "source": [
    "# Example of hierarchical inheritance\n",
    "class parents:\n",
    "    def function1(self):\n",
    "        print(\"this is a function is in  parant class\")\n",
    "        \n",
    "class child1(parents):\n",
    "    def function2(self):\n",
    "        print(\"this is a function is in child1 class\")\n",
    "        \n",
    "class child2(parents):\n",
    "    def function3(self):\n",
    "        print(\"this is a function is in child2 class\")\n",
    "\n",
    "object1 = child1()\n",
    "object2 = child2()\n",
    "object1.function1()\n",
    "object1.function2()\n",
    "object2.function1()\n",
    "object2.function3()"
   ]
  },
  {
   "cell_type": "code",
   "execution_count": null,
   "id": "e0788788-9b61-41f8-9f2b-a2a9bd427d2e",
   "metadata": {},
   "outputs": [],
   "source": []
  }
 ],
 "metadata": {
  "kernelspec": {
   "display_name": "Python 3 (ipykernel)",
   "language": "python",
   "name": "python3"
  },
  "language_info": {
   "codemirror_mode": {
    "name": "ipython",
    "version": 3
   },
   "file_extension": ".py",
   "mimetype": "text/x-python",
   "name": "python",
   "nbconvert_exporter": "python",
   "pygments_lexer": "ipython3",
   "version": "3.10.8"
  }
 },
 "nbformat": 4,
 "nbformat_minor": 5
}
