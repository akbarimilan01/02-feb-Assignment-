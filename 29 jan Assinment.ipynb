{
 "cells": [
  {
   "cell_type": "markdown",
   "id": "2e29a802-f6f9-407f-8d6f-c62d4e3dd59c",
   "metadata": {},
   "source": [
    "1. Who developed Python Programming Language? "
   ]
  },
  {
   "cell_type": "code",
   "execution_count": null,
   "id": "3707d70a-a6d7-433e-b7a3-c67331fbc5e7",
   "metadata": {},
   "outputs": [],
   "source": [
    "\"\"\" and : Guido van Rossum is developed python.\"\"\""
   ]
  },
  {
   "cell_type": "markdown",
   "id": "aaafd757-983e-42d0-8b8e-8eeeebcaab8d",
   "metadata": {},
   "source": [
    "2. Which type of Programming does Python support? "
   ]
  },
  {
   "cell_type": "code",
   "execution_count": null,
   "id": "de8d311e-a81f-4869-bb74-bc80d61529ad",
   "metadata": {},
   "outputs": [],
   "source": [
    "\"\"\" ans : Object-oriented programming\"\"\""
   ]
  },
  {
   "cell_type": "markdown",
   "id": "ce298857-3ff2-4982-aceb-1ea19e2fe1a8",
   "metadata": {},
   "source": [
    "3. Is Python case sensitive when dealing with identifiers? "
   ]
  },
  {
   "cell_type": "code",
   "execution_count": null,
   "id": "9aa6f620-d0fc-4746-99ff-51f4c215108b",
   "metadata": {},
   "outputs": [],
   "source": [
    "\"\"\" ans : yes python is case sensitive when dealing with identifiers\"\"\""
   ]
  },
  {
   "cell_type": "markdown",
   "id": "627182ea-dff0-4f5d-baba-98136d412afc",
   "metadata": {},
   "source": [
    "c4. What is the correct extension of the Python file? "
   ]
  },
  {
   "cell_type": "code",
   "execution_count": null,
   "id": "4071d719-e69b-40a1-9e1f-1edf182c2264",
   "metadata": {},
   "outputs": [],
   "source": [
    "\"\"\"ans : .py is correct extension of python file \"\"\""
   ]
  },
  {
   "cell_type": "markdown",
   "id": "b05b7093-192a-4eaa-a2f5-d35bcb7045ff",
   "metadata": {},
   "source": [
    "5. Is Python codeompiled or interpreted? \n"
   ]
  },
  {
   "cell_type": "code",
   "execution_count": null,
   "id": "ac191602-70ed-47db-be15-c1e64b30f2d4",
   "metadata": {},
   "outputs": [],
   "source": [
    "\"\"\" ans : Python is an interpreted language. When you run a Python program, the source code is interpreted by the Python interpreter, which executes the code\n",
    "directly, without compiling it into machine code first.\n",
    "However, Python code can also be compiled, using tools like Cython or Numba, which convert Python code into machine code for faster execution. In addition, \n",
    "Python has a bytecode compilation step, where the Python interpreter compiles source code into bytecode, which can be cached to improve performance on\n",
    "subsequent runs.\n",
    "Overall, Python is often referred to as an interpreted language because it is designed to be executed line-by-line by the interpreter. However, there are also\n",
    "ways to compile Python code for improved performance in certain use cases.\"\"\""
   ]
  },
  {
   "cell_type": "markdown",
   "id": "1aa13f6a-cf98-4a40-9084-c2036a49db63",
   "metadata": {},
   "source": [
    "6. Name a few blocks of code used to define in Python language? "
   ]
  },
  {
   "cell_type": "code",
   "execution_count": null,
   "id": "6ff9194c-907a-44dd-8637-01c7dae46984",
   "metadata": {},
   "outputs": [],
   "source": [
    "\"\"\" ans : Control Flow - Code Blocks\n",
    "          forums.codeblocks \"\"\""
   ]
  },
  {
   "cell_type": "markdown",
   "id": "42cf5410-4aa8-402c-95f1-c4248a653fda",
   "metadata": {},
   "source": [
    "7. State a character used to give single-line comments in Python? "
   ]
  },
  {
   "cell_type": "code",
   "execution_count": null,
   "id": "be85e4ab-d4a9-4388-973f-83f0447f39c9",
   "metadata": {},
   "outputs": [],
   "source": [
    "\"\"\" ans : # is used to give single line comments in python \"\"\""
   ]
  },
  {
   "cell_type": "markdown",
   "id": "e4cddb6f-048c-4068-9da4-0b04cb273d97",
   "metadata": {},
   "source": [
    "8. Mention functions which can help us to find the version of python that we are currently working on?"
   ]
  },
  {
   "cell_type": "code",
   "execution_count": null,
   "id": "815f9ebb-8869-45d8-8d87-e3585c4b7679",
   "metadata": {},
   "outputs": [],
   "source": [
    "\"\"\"ans : sys.version is used to find the version of python that we are currently working on \"\"\""
   ]
  },
  {
   "cell_type": "markdown",
   "id": "0a940a62-53bc-4a45-acc9-45cfc72787c9",
   "metadata": {},
   "source": [
    "9. Python supports the creation of anonymous functions at runtime, using a construct called \n"
   ]
  },
  {
   "cell_type": "code",
   "execution_count": null,
   "id": "5f986a39-626b-4ec1-9827-51bd022186e4",
   "metadata": {},
   "outputs": [],
   "source": [
    "\"\"\" ans : Lambda \"\"\""
   ]
  },
  {
   "cell_type": "markdown",
   "id": "dbfcf026-33e3-4b92-8167-1d824f7cd126",
   "metadata": {},
   "source": [
    "10. What does pip stand for python? "
   ]
  },
  {
   "cell_type": "code",
   "execution_count": null,
   "id": "d65a2521-685a-4266-8edb-4430fa05b7f5",
   "metadata": {},
   "outputs": [],
   "source": [
    "\"\"\" ans : PIP stands for “Python Package Index”. It is a repository of software for the Python programming language. \"\"\""
   ]
  },
  {
   "cell_type": "markdown",
   "id": "ef7c2324-0e85-41c3-a0c0-c34700393859",
   "metadata": {},
   "source": [
    "11. Mention a few built-in functions in python? "
   ]
  },
  {
   "cell_type": "code",
   "execution_count": null,
   "id": "feddaca7-16bb-47f4-a5f7-3f2f803c9fc4",
   "metadata": {},
   "outputs": [],
   "source": [
    "\"\"\" ans : filter(), map(), len(),list(), max(),next(),print(),type() are built-in functions in python \"\"\""
   ]
  },
  {
   "cell_type": "markdown",
   "id": "b0c559da-0876-4848-b677-205d7d61f891",
   "metadata": {},
   "source": [
    "12. What is the maximum possible length of an identifier in Python? "
   ]
  },
  {
   "cell_type": "code",
   "execution_count": null,
   "id": "b4d153cf-4caf-44e2-9f51-e777a07e75a2",
   "metadata": {},
   "outputs": [],
   "source": [
    "\"\"\" ans : 79  characters \"\"\""
   ]
  },
  {
   "cell_type": "markdown",
   "id": "b911f07b-8b65-4764-8317-b03bad7a65a2",
   "metadata": {},
   "source": [
    "13. What are the benefits of using Python? "
   ]
  },
  {
   "cell_type": "code",
   "execution_count": null,
   "id": "1f3ab376-8c36-46f9-a279-b0fad72071f8",
   "metadata": {},
   "outputs": [],
   "source": [
    "\"\"\" ans : benefits of using python HIGH-LEVEL LANGUAGE AND EASY READABILITY,EASY SYNTAX,SAFETY AND SECURITY,OBJECT-ORIENTED PROGRAMMING , WORK WITH LESS CODE\"\"\"\n"
   ]
  },
  {
   "cell_type": "markdown",
   "id": "3278b149-f43f-4429-9c4b-6d09370d1570",
   "metadata": {},
   "source": [
    "14. How is memory managed in Python? "
   ]
  },
  {
   "cell_type": "code",
   "execution_count": null,
   "id": "c6fb777f-842a-450e-af6b-48b6d4cfa255",
   "metadata": {},
   "outputs": [],
   "source": [
    "\"\"\" ans : According to the Python memory management documentation, Python has a private heap that stores our program’s objects and data structures.\n",
    "Python memory manager takes care of the bulk of the memory management work and allows us to concentrate on our code. \"\"\""
   ]
  },
  {
   "cell_type": "markdown",
   "id": "7b84bb40-13e0-43ad-b344-72c76fd5c091",
   "metadata": {},
   "source": [
    "15. How to install Python on Windows and set path variables?"
   ]
  },
  {
   "cell_type": "code",
   "execution_count": null,
   "id": "d2635aba-7fa7-4cfb-bccb-5bcfbeda2cbb",
   "metadata": {},
   "outputs": [],
   "source": [
    "\"\"\" ans :(1) Download the latest version of Python from the official website .\n",
    "(2)Double-click the downloaded installer file to launch the installation wizard.\n",
    "(3)In the first screen of the installation wizard, make sure to check the box that says \"Add Python to PATH\". This will allow you to run Python from the\n",
    "Command Prompt and set the path variables automatically.\n",
    "(4)Choose a destination folder where Python will be installed. The default location is usually fine.\n",
    "(5)Click the \"Install\" button to begin the installation process.\n",
    "(6)Wait for the installation to complete. This may take a few minutes.\n",
    "(7)Once the installation is complete, click the \"Close\" button to exit the installation wizard.\n",
    "(8)To test if Python is installed correctly and the path variables are set, open the Command Prompt and type \"python\". If Python is installed correctly and the\n",
    "path variables are set, you should see the Python version number and the Python prompt (\">>>\").\n",
    "(9)If you want to check the path variables, type \"echo %PATH%\" in the Command Prompt. This will display a list of all the paths included in your system's \n",
    "environment variables. You should see the path to your Python installation directory in the list.\"\"\""
   ]
  },
  {
   "cell_type": "markdown",
   "id": "020b32ff-a7ab-48bf-9b46-e69a5854c515",
   "metadata": {},
   "source": [
    "16. Is indentation required in python? "
   ]
  },
  {
   "cell_type": "code",
   "execution_count": null,
   "id": "f6fab463-e337-49dd-9cae-5aff09f52644",
   "metadata": {},
   "outputs": [],
   "source": [
    "\"\"\" ans : yes identation required in python \"\"\""
   ]
  },
  {
   "cell_type": "code",
   "execution_count": null,
   "id": "86472023-6516-4cd2-9fca-1b7cdf233fe5",
   "metadata": {},
   "outputs": [],
   "source": []
  }
 ],
 "metadata": {
  "kernelspec": {
   "display_name": "Python 3 (ipykernel)",
   "language": "python",
   "name": "python3"
  },
  "language_info": {
   "codemirror_mode": {
    "name": "ipython",
    "version": 3
   },
   "file_extension": ".py",
   "mimetype": "text/x-python",
   "name": "python",
   "nbconvert_exporter": "python",
   "pygments_lexer": "ipython3",
   "version": "3.10.8"
  }
 },
 "nbformat": 4,
 "nbformat_minor": 5
}
