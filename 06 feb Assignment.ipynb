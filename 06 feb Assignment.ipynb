{
 "cells": [
  {
   "cell_type": "markdown",
   "id": "61abec04-5b5d-4498-80a0-3a72424d277f",
   "metadata": {},
   "source": [
    "Question : 1"
   ]
  },
  {
   "cell_type": "code",
   "execution_count": 2,
   "id": "37271ca0-b37d-4959-b1f6-bf1091441e51",
   "metadata": {},
   "outputs": [],
   "source": [
    "def final_product(lst):\n",
    "  flat_list = []\n",
    "  for element in lst:\n",
    "    if type(element)==list or type(element)==tuple or type(element)==set:\n",
    "      flat_list += list(filter(lambda x : type(x)==int or type(x)==float,element))\n",
    "    elif type(element)==dict:\n",
    "      for key, value in element.items():\n",
    "        if type(key)==int or type(key)==float:\n",
    "          flat_list.append(key)\n",
    "        if type(value)==int or type(value)==float:\n",
    "          flat_list.append(value)\n",
    "    elif type(element)==int or type(element)==float:\n",
    "      flat_list.append(element)\n",
    "  product = 1\n",
    "  for number in flat_list:\n",
    "    product *= number\n",
    "  return product"
   ]
  },
  {
   "cell_type": "code",
   "execution_count": 3,
   "id": "965985c9-e471-4ccd-8339-0615b4c5332d",
   "metadata": {},
   "outputs": [
    {
     "name": "stdout",
     "output_type": "stream",
     "text": [
      "78718933113238978560\n"
     ]
    }
   ],
   "source": [
    "list1 = [1,2,3,4, [44,55,66, True], False, (34,56,78,89,34), {1,2,3,3,2,1}, {1:34, \"key2\": [55, 67, 78, 89], 4: (45, 22, 61, 34)}, [56, 'data science'], 'Machine Learning']\n",
    "result=final_product(list1)\n",
    "print(result)"
   ]
  },
  {
   "cell_type": "markdown",
   "id": "980c46cd-bcf5-4e18-8b5e-09cb3083072a",
   "metadata": {},
   "source": [
    "Question : 2"
   ]
  },
  {
   "cell_type": "code",
   "execution_count": 1,
   "id": "f9693986-4e6a-4c5c-861e-32725af0d0b6",
   "metadata": {},
   "outputs": [],
   "source": [
    "def encrypt_message(massage):\n",
    "  massage = massage.lower()\n",
    "  encryption_dict = {\n",
    "        'a': 'z', 'b': 'y', 'c': 'x', 'd': 'w', 'e': 'v', 'f': 'u', 'g': 't',\n",
    "        'h': 's', 'i': 'r', 'j': 'q', 'k': 'p', 'l': 'o', 'm': 'n', 'n': 'm',\n",
    "        'o': 'l', 'p': 'k', 'q': 'j', 'r': 'i', 's': 'h', 't': 'g', 'u': 'f',\n",
    "        'v': 'e', 'w': 'd', 'x': 'c', 'y': 'b', 'z': 'a'\n",
    "  }\n",
    "  encrypt_message = \"\"\n",
    "  for char in massage:\n",
    "    if char.isalpha():\n",
    "      upadated_char = encryption_dict[char]\n",
    "      encrypt_message += upadated_char\n",
    "    elif char == \" \":\n",
    "      encrypt_message += \"$\"\n",
    "    else:\n",
    "      encrypt_message += char\n",
    "  return encrypt_message"
   ]
  },
  {
   "cell_type": "code",
   "execution_count": 2,
   "id": "8317d5e6-a254-4c15-9277-54b4bb46dc72",
   "metadata": {},
   "outputs": [
    {
     "name": "stdout",
     "output_type": "stream",
     "text": [
      "r$dzmg$gl$yvxlnv$z$wzgz$hxrvmgrhg.\n"
     ]
    }
   ],
   "source": [
    "input_sentence= \"I want to become a Data Scientist.\"\n",
    "final_massage = encrypt_message(input_sentence)\n",
    "print(final_massage)"
   ]
  },
  {
   "cell_type": "code",
   "execution_count": null,
   "id": "908300bd-01bc-4681-a366-0118cc182b32",
   "metadata": {},
   "outputs": [],
   "source": []
  }
 ],
 "metadata": {
  "kernelspec": {
   "display_name": "Python 3 (ipykernel)",
   "language": "python",
   "name": "python3"
  },
  "language_info": {
   "codemirror_mode": {
    "name": "ipython",
    "version": 3
   },
   "file_extension": ".py",
   "mimetype": "text/x-python",
   "name": "python",
   "nbconvert_exporter": "python",
   "pygments_lexer": "ipython3",
   "version": "3.10.8"
  }
 },
 "nbformat": 4,
 "nbformat_minor": 5
}
