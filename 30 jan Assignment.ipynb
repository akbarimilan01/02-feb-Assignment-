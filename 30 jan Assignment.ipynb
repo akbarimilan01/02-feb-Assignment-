{
 "cells": [
  {
   "cell_type": "markdown",
   "id": "ae8ccfae-363f-4601-8f20-9a7f8f8d36a2",
   "metadata": {},
   "source": [
    "Question :1 "
   ]
  },
  {
   "cell_type": "code",
   "execution_count": 1,
   "id": "4ffad2b2-e203-4073-96d8-b60622a00aec",
   "metadata": {},
   "outputs": [
    {
     "name": "stdin",
     "output_type": "stream",
     "text": [
      "Enter your percentage : 89\n"
     ]
    },
    {
     "name": "stdout",
     "output_type": "stream",
     "text": [
      "grade : B\n"
     ]
    }
   ],
   "source": [
    "per = int(input(\"Enter your percentage :\"))\n",
    "if per > 90:\n",
    "    print(\" Garde : A\")\n",
    "elif per > 80 and per <=90 :\n",
    "    print(\"grade : B\")\n",
    "elif per > 60 and per <= 80:\n",
    "    print(\" grade : C\")\n",
    "else :\n",
    "    print(\"grade : D\")\n",
    "    "
   ]
  },
  {
   "cell_type": "markdown",
   "id": "f8f300b6-014c-4dde-987a-4d2920f2441a",
   "metadata": {},
   "source": [
    "Question : 2"
   ]
  },
  {
   "cell_type": "code",
   "execution_count": 2,
   "id": "e7545761-cb66-4bd7-97bb-1a2951d3c773",
   "metadata": {},
   "outputs": [
    {
     "name": "stdin",
     "output_type": "stream",
     "text": [
      "Enter your cost :  78000\n"
     ]
    },
    {
     "name": "stdout",
     "output_type": "stream",
     "text": [
      " tax is  10 % \n"
     ]
    }
   ],
   "source": [
    "cost_price = int(input(\"Enter your cost : \" ))\n",
    "if cost_price > 100000:\n",
    "    print( \" tax is 15 % \" )\n",
    "elif cost_price > 50000 and cost_price <= 100000 :\n",
    "    print( \" tax is  10 % \")\n",
    "else : \n",
    "    print(\" tax is 5 % \" )"
   ]
  },
  {
   "cell_type": "markdown",
   "id": "4d6e51e0-4630-4b13-91ec-999bdfafc123",
   "metadata": {},
   "source": [
    "Question :3 "
   ]
  },
  {
   "cell_type": "code",
   "execution_count": 3,
   "id": "7d5ceaf5-a0ab-4d5a-bd27-c389fe7a92aa",
   "metadata": {},
   "outputs": [
    {
     "name": "stdin",
     "output_type": "stream",
     "text": [
      " Enter city name :  Delhi\n"
     ]
    },
    {
     "name": "stdout",
     "output_type": "stream",
     "text": [
      " main monument of this city is : Red Fort \n"
     ]
    }
   ],
   "source": [
    "city = input( \" Enter city name : \" )\n",
    "if city == \"Delhi\":\n",
    "    print( \" main monument of this city is : Red Fort \")\n",
    "elif city == \"Agra\" :\n",
    "    print( \" main monument of this city is : Taj Mahal \")\n",
    "elif city == \"Jaipur\" :\n",
    "    print( \" main monument of this city is : Jal Mahal \")\n",
    "    "
   ]
  },
  {
   "cell_type": "markdown",
   "id": "ca504148-0839-423b-b9c4-dbe20b19e635",
   "metadata": {},
   "source": [
    "Question : 4"
   ]
  },
  {
   "cell_type": "code",
   "execution_count": 4,
   "id": "af94fe10-c767-409c-9fa8-bbe5f9ca299a",
   "metadata": {},
   "outputs": [
    {
     "name": "stdin",
     "output_type": "stream",
     "text": [
      " Enter your number  300\n"
     ]
    },
    {
     "name": "stdout",
     "output_type": "stream",
     "text": [
      "4\n"
     ]
    }
   ],
   "source": [
    "num = int(input( \" Enter your number \" ))\n",
    "count = 0\n",
    "while num >= 10 : \n",
    "    num = num / 3\n",
    "    count = count + 1\n",
    "print(count)\n",
    "  "
   ]
  },
  {
   "cell_type": "markdown",
   "id": "b85ef75f-83cc-4925-802c-2ba7a3760f8b",
   "metadata": {},
   "source": [
    "5. Why and When to Use while Loop in Python give a detailed description with example "
   ]
  },
  {
   "cell_type": "code",
   "execution_count": 5,
   "id": "a2a16180-df10-4e22-8048-f0b54b5dfce2",
   "metadata": {},
   "outputs": [
    {
     "data": {
      "text/plain": [
       "\"ans : The while loop is a fundamental looping construct in Python that allows you to repeat a block of code as long as a certain condition is true. \\nThe while loop is used when you want to execute a block of code repeatedly until a particular condition is met. It can be used to perform tasks like reading\\ndata from a file, processing a list, or waiting for user input.\\nThe general statment of while loop is \\n'while condition :\\n    code block '\\n    \\n\""
      ]
     },
     "execution_count": 5,
     "metadata": {},
     "output_type": "execute_result"
    }
   ],
   "source": [
    "\"\"\"ans : The while loop is a fundamental looping construct in Python that allows you to repeat a block of code as long as a certain condition is true. \n",
    "The while loop is used when you want to execute a block of code repeatedly until a particular condition is met. It can be used to perform tasks like reading\n",
    "data from a file, processing a list, or waiting for user input.\n",
    "The general statment of while loop is \n",
    "'while condition :\n",
    "    code block '\n",
    "    \n",
    "\"\"\""
   ]
  },
  {
   "cell_type": "code",
   "execution_count": 6,
   "id": "6cb2dbcb-d7d5-4dd5-b7cf-04a8f319cab3",
   "metadata": {},
   "outputs": [
    {
     "name": "stdout",
     "output_type": "stream",
     "text": [
      "1\n",
      "2\n",
      "3\n",
      "4\n",
      "5\n",
      "6\n",
      "7\n",
      "8\n",
      "9\n",
      "10\n"
     ]
    }
   ],
   "source": [
    "# Example of while loop is print first 10 natural number ;\n",
    "num = 1\n",
    "while num <= 10:\n",
    "    print(num)\n",
    "    num = num + 1"
   ]
  },
  {
   "cell_type": "markdown",
   "id": "68cfbf94-e140-469c-8fa6-11f5f1dd9867",
   "metadata": {},
   "source": [
    "Q.6 :Use nested while loop to print 3 different pattern. "
   ]
  },
  {
   "cell_type": "code",
   "execution_count": 7,
   "id": "a22e5183-9a4a-435d-b057-e2a938e508e0",
   "metadata": {},
   "outputs": [
    {
     "name": "stdout",
     "output_type": "stream",
     "text": [
      "* \n",
      "* * \n",
      "* * * \n",
      "* * * * \n",
      "* * * * * \n"
     ]
    }
   ],
   "source": [
    "# Right Triangle pattern\n",
    "i = 1\n",
    "while i <=5:\n",
    "    j = 1\n",
    "    while j <= i:\n",
    "        print(\"*\" ,end=\" \" )\n",
    "        j = j + 1\n",
    "    print( )\n",
    "    i = i + 1 "
   ]
  },
  {
   "cell_type": "code",
   "execution_count": 8,
   "id": "829c7ef5-78d6-44e5-b28d-d74eb067279d",
   "metadata": {},
   "outputs": [
    {
     "name": "stdout",
     "output_type": "stream",
     "text": [
      "* * * * * \n",
      "* * * * * \n",
      "* * * * * \n",
      "* * * * * \n",
      "* * * * * \n"
     ]
    }
   ],
   "source": [
    "# square pattern\n",
    "i = 1 \n",
    "while i <=5:\n",
    "    j = 1\n",
    "    while j <=5 :\n",
    "        print(\"*\",end=\" \")\n",
    "        j = j + 1\n",
    "    print( )\n",
    "    i = i + 1"
   ]
  },
  {
   "cell_type": "code",
   "execution_count": 9,
   "id": "3a79770d-81cb-4c6e-a86e-48034155c6a6",
   "metadata": {},
   "outputs": [
    {
     "name": "stdout",
     "output_type": "stream",
     "text": [
      "   *\n",
      "  ***\n",
      " *****\n",
      "*******\n",
      " *****\n",
      "  ***\n",
      "   *\n"
     ]
    }
   ],
   "source": [
    "# Diamond pattern\n",
    "n = 4\n",
    "i = 1\n",
    "while i <= n:\n",
    "    j = 1\n",
    "    while j <= n-i:\n",
    "        print(\" \", end=\"\")\n",
    "        j += 1\n",
    "    j = 1\n",
    "    while j <= 2*i-1:\n",
    "        print(\"*\", end=\"\")\n",
    "        j += 1\n",
    "    print()\n",
    "    i += 1\n",
    "\n",
    "i = n-1\n",
    "while i >= 1:\n",
    "    j = 1\n",
    "    while j <= n-i:\n",
    "        print(\" \", end=\"\")\n",
    "        j += 1\n",
    "    j = 1\n",
    "    while j <= 2*i-1:\n",
    "        print(\"*\", end=\"\")\n",
    "        j += 1\n",
    "    print()\n",
    "    i -= 1\n"
   ]
  },
  {
   "cell_type": "markdown",
   "id": "05578968-61a6-49e3-bb1c-f25577081a4a",
   "metadata": {},
   "source": [
    "7. Reverse a while loop to display numbers from 10 to 1. "
   ]
  },
  {
   "cell_type": "code",
   "execution_count": 10,
   "id": "391c1ed6-f70b-4379-955b-8a2dbff1bb90",
   "metadata": {},
   "outputs": [
    {
     "name": "stdout",
     "output_type": "stream",
     "text": [
      "10\n",
      "9\n",
      "8\n",
      "7\n",
      "6\n",
      "5\n",
      "4\n",
      "3\n",
      "2\n",
      "1\n"
     ]
    }
   ],
   "source": [
    "n = 10 \n",
    "while n >= 1:\n",
    "    print(n)\n",
    "    n = n - 1"
   ]
  },
  {
   "cell_type": "markdown",
   "id": "ca9993cb-3219-41a1-883e-edbbdd4ce97b",
   "metadata": {},
   "source": [
    "8. Reverse a while loop to display numbers from 10 to 1. "
   ]
  },
  {
   "cell_type": "code",
   "execution_count": 11,
   "id": "53461a73-e7a4-40df-93ab-bcc90f83c1c3",
   "metadata": {},
   "outputs": [
    {
     "name": "stdout",
     "output_type": "stream",
     "text": [
      "10\n",
      "9\n",
      "8\n",
      "7\n",
      "6\n",
      "5\n",
      "4\n",
      "3\n",
      "2\n",
      "1\n"
     ]
    }
   ],
   "source": [
    "n = 10 \n",
    "while n >= 1:\n",
    "    print(n)\n",
    "    n = n - 1"
   ]
  },
  {
   "cell_type": "code",
   "execution_count": null,
   "id": "83d1373d-b060-4329-9db5-8ce39e1022b1",
   "metadata": {},
   "outputs": [],
   "source": []
  }
 ],
 "metadata": {
  "kernelspec": {
   "display_name": "Python 3 (ipykernel)",
   "language": "python",
   "name": "python3"
  },
  "language_info": {
   "codemirror_mode": {
    "name": "ipython",
    "version": 3
   },
   "file_extension": ".py",
   "mimetype": "text/x-python",
   "name": "python",
   "nbconvert_exporter": "python",
   "pygments_lexer": "ipython3",
   "version": "3.10.8"
  }
 },
 "nbformat": 4,
 "nbformat_minor": 5
}
