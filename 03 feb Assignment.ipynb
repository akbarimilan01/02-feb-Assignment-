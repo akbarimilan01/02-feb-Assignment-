{
 "cells": [
  {
   "cell_type": "markdown",
   "id": "fb449866-00a2-4452-a675-a8f2938cc685",
   "metadata": {},
   "source": [
    "Q1. Which keyword is used to create a function? Create a function to return a list of odd numbers in the\n",
    "range of 1 to 25."
   ]
  },
  {
   "cell_type": "code",
   "execution_count": 1,
   "id": "7fc0900b-d96c-4a4f-8424-14a9462a7db4",
   "metadata": {},
   "outputs": [
    {
     "name": "stdout",
     "output_type": "stream",
     "text": [
      "[1, 3, 5, 7, 9, 11, 13, 15, 17, 19, 21, 23, 25]\n"
     ]
    }
   ],
   "source": [
    "# ans : def keyword is used to create a function.\n",
    "list = []\n",
    "def odd_number():\n",
    "    for i in range(1,26):\n",
    "        if i % 2 != 0:\n",
    "            list.append(i)\n",
    "    print(list)\n",
    "odd_number()"
   ]
  },
  {
   "cell_type": "markdown",
   "id": "abe056a1-c33f-4959-ba21-fff7d71c47a1",
   "metadata": {},
   "source": [
    "Q2. Why *args and **kwargs is used in some functions? Create a function each for *args and **kwargs\n",
    "to demonstrate their use."
   ]
  },
  {
   "cell_type": "code",
   "execution_count": 2,
   "id": "6e1b49be-6de8-4253-a549-1dd12de2f422",
   "metadata": {},
   "outputs": [
    {
     "name": "stdout",
     "output_type": "stream",
     "text": [
      "Milan\n",
      "Akbari\n",
      "14\n"
     ]
    }
   ],
   "source": [
    "# ans : because *args is used for multiple non-keyword arguments in function and **kwarge is used for multiple keyword(key and value pair) arguments in function.\n",
    "# Example of *args\n",
    "def function(*args):\n",
    "    for i in args:\n",
    "        print(i)\n",
    "function(\"Milan\",\"Akbari\",14)"
   ]
  },
  {
   "cell_type": "code",
   "execution_count": 3,
   "id": "ef350374-31b7-4f1c-917b-86515743ea59",
   "metadata": {},
   "outputs": [
    {
     "data": {
      "text/plain": [
       "{'cource': ['data science', 'python'], 'fees': [3500, 1000]}"
      ]
     },
     "execution_count": 3,
     "metadata": {},
     "output_type": "execute_result"
    }
   ],
   "source": [
    "# Example of **kwargs\n",
    "def function1(**kwargs):\n",
    "    return kwargs\n",
    "function1(cource=['data science',\"python\"],fees=[3500,1000])"
   ]
  },
  {
   "cell_type": "markdown",
   "id": "01961e82-35ef-4701-bd82-b934ad15ba2f",
   "metadata": {},
   "source": [
    "Q3. What is an iterator in python? Name the method used to initialise the iterator object and the method\n",
    "used for iteration. Use these methods to print the first five elements of the given list [2, 4, 6, 8, 10, 12, 14,\n",
    "16, 18, 20]."
   ]
  },
  {
   "cell_type": "code",
   "execution_count": 4,
   "id": "9de9c2b2-850a-4211-807b-eb34962dcf3a",
   "metadata": {
    "tags": []
   },
   "outputs": [
    {
     "name": "stdout",
     "output_type": "stream",
     "text": [
      "2\n",
      "4\n",
      "6\n",
      "8\n",
      "10\n"
     ]
    }
   ],
   "source": [
    "\"\"\" ans : An iterator in Python is an object that allows sequential access to elements of a container (such as a list) without exposing its internal representation.\n",
    " the method used to initialise the iteretor object is '__iter__' and '__next__ \n",
    " and To initialize an iterator object we can use the ' iter()' function'\"\"\"\n",
    "\n",
    "list = [2,4,6,8,10,12,14,16,18,20]\n",
    "itr = iter(list)\n",
    "for i in range(5):\n",
    "    print(next(itr))"
   ]
  },
  {
   "cell_type": "markdown",
   "id": "f7df3c69-0f81-47cb-8610-a9daac0843b5",
   "metadata": {},
   "source": [
    "Q4. What is a generator function in python? Why yield keyword is used? Give an example of a generator\n",
    "function."
   ]
  },
  {
   "cell_type": "code",
   "execution_count": 5,
   "id": "ddb4a50e-1304-4c1c-8ad2-acd22ca8354d",
   "metadata": {},
   "outputs": [],
   "source": [
    "\"\"\" ans : Generator-Function: A generator-function is defined like a normal function, but whenever it needs to generate a value, it does so with the yield\n",
    "keyword rather than return. If the body of a def contains yield, the function automatically becomes a generator function.\n",
    "\n",
    "The yield keyword is used to produce a value from the generator function, and also to temporarily \"freeze\" the function's state so that it can be resumed later. \n",
    "This makes it possible to generate large sequences of values without needing to store them all in memory at once.\n",
    "\"\"\" \n",
    "\n",
    "## fibonacci series by used of generator function\n",
    "def fibonacci():\n",
    "    a,b = 0,1\n",
    "    while True :\n",
    "        yield a\n",
    "        a,b = b, a+b "
   ]
  },
  {
   "cell_type": "code",
   "execution_count": 6,
   "id": "077c3cfa-8931-4190-ae77-37eb2115096d",
   "metadata": {},
   "outputs": [
    {
     "data": {
      "text/plain": [
       "0"
      ]
     },
     "execution_count": 6,
     "metadata": {},
     "output_type": "execute_result"
    }
   ],
   "source": [
    "fib = fibonacci()\n",
    "next(fib)"
   ]
  },
  {
   "cell_type": "code",
   "execution_count": 7,
   "id": "cfd481fb-19d8-4ad8-909e-31dc6478e236",
   "metadata": {},
   "outputs": [
    {
     "data": {
      "text/plain": [
       "1"
      ]
     },
     "execution_count": 7,
     "metadata": {},
     "output_type": "execute_result"
    }
   ],
   "source": [
    "next(fib)"
   ]
  },
  {
   "cell_type": "code",
   "execution_count": 8,
   "id": "3773f822-f39b-465e-955e-a0759c0abd3e",
   "metadata": {},
   "outputs": [
    {
     "data": {
      "text/plain": [
       "1"
      ]
     },
     "execution_count": 8,
     "metadata": {},
     "output_type": "execute_result"
    }
   ],
   "source": [
    "next(fib)"
   ]
  },
  {
   "cell_type": "code",
   "execution_count": 9,
   "id": "28b7dfc0-3ffd-4370-90a1-66664642f171",
   "metadata": {},
   "outputs": [
    {
     "data": {
      "text/plain": [
       "2"
      ]
     },
     "execution_count": 9,
     "metadata": {},
     "output_type": "execute_result"
    }
   ],
   "source": [
    "next(fib)"
   ]
  },
  {
   "cell_type": "code",
   "execution_count": 10,
   "id": "95d67fac-ce27-4622-9fcb-d2b5ad0b3bfe",
   "metadata": {},
   "outputs": [
    {
     "data": {
      "text/plain": [
       "3"
      ]
     },
     "execution_count": 10,
     "metadata": {},
     "output_type": "execute_result"
    }
   ],
   "source": [
    "next(fib)"
   ]
  },
  {
   "cell_type": "code",
   "execution_count": null,
   "id": "f41b4b43-630f-48e2-acfd-b1f2a39ac236",
   "metadata": {},
   "outputs": [],
   "source": []
  },
  {
   "cell_type": "markdown",
   "id": "0423a482-0190-478a-962d-9a7d4cfc5672",
   "metadata": {},
   "source": [
    "Q5. Create a generator function for prime numbers less than 1000. Use the next() method to print the\n",
    "first 20 prime numbers."
   ]
  },
  {
   "cell_type": "code",
   "execution_count": 11,
   "id": "09383458-7a90-48a2-8840-04c2c7ec0fec",
   "metadata": {},
   "outputs": [],
   "source": [
    "def generate_primes():\n",
    "    primes = []\n",
    "    for num in range(2, 1000):\n",
    "        is_prime = True\n",
    "        for prime in primes:\n",
    "            if num % prime == 0:\n",
    "                is_prime = False\n",
    "                break\n",
    "        if is_prime:\n",
    "            primes.append(num)\n",
    "            yield num"
   ]
  },
  {
   "cell_type": "code",
   "execution_count": 12,
   "id": "90bdd9dc-0b8c-4576-9940-2ba2dc0230c0",
   "metadata": {},
   "outputs": [
    {
     "name": "stdout",
     "output_type": "stream",
     "text": [
      "2\n",
      "3\n",
      "5\n",
      "7\n",
      "11\n",
      "13\n",
      "17\n",
      "19\n",
      "23\n",
      "29\n",
      "31\n",
      "37\n",
      "41\n",
      "43\n",
      "47\n",
      "53\n",
      "59\n",
      "61\n",
      "67\n",
      "71\n"
     ]
    }
   ],
   "source": [
    "prime_gen = generate_primes()\n",
    "for i in range(20):\n",
    "    print(next(prime_gen))\n"
   ]
  },
  {
   "cell_type": "markdown",
   "id": "7db586c3-c4a2-41a7-a3b9-4fcda12550d0",
   "metadata": {},
   "source": [
    "Q6. Write a python program to print the first 10 Fibonacci numbers using a while loop."
   ]
  },
  {
   "cell_type": "code",
   "execution_count": 13,
   "id": "18953a45-dbb9-4e60-92e0-00262b7cab1e",
   "metadata": {},
   "outputs": [
    {
     "name": "stdin",
     "output_type": "stream",
     "text": [
      "Enter the number: 10\n"
     ]
    },
    {
     "name": "stdout",
     "output_type": "stream",
     "text": [
      "0\n",
      "1\n",
      "1\n",
      "2\n",
      "3\n",
      "5\n",
      "8\n",
      "13\n",
      "21\n",
      "34\n"
     ]
    }
   ],
   "source": [
    "number = int(input(\"Enter the number:\"))\n",
    "a,b = 0,1\n",
    "counter = 0\n",
    "while counter < number:\n",
    "    print(a)\n",
    "    a,b = b,a+b\n",
    "    counter = counter + 1"
   ]
  },
  {
   "cell_type": "markdown",
   "id": "75713882-2253-4bee-8b02-52119fd07b70",
   "metadata": {},
   "source": [
    "Q7. Write a List Comprehension to iterate through the given string: ‘pwskills’.\n",
    "Expected output: ['p', 'w', 's', 'k', 'i', 'l', 'l', 's']"
   ]
  },
  {
   "cell_type": "code",
   "execution_count": 14,
   "id": "3a021821-f139-466b-b36d-1db6fd09a96a",
   "metadata": {},
   "outputs": [
    {
     "name": "stdout",
     "output_type": "stream",
     "text": [
      "['p', 'w', 's', 'k', 'i', 'l', 'l', 's']\n"
     ]
    }
   ],
   "source": [
    "s = 'pwskills'\n",
    "l = []\n",
    "for i in s:\n",
    "    l.append(i)\n",
    "print(l)"
   ]
  },
  {
   "cell_type": "markdown",
   "id": "f804be1d-c8ab-463a-9c30-744fff85225a",
   "metadata": {},
   "source": [
    "Q8. Write a python program to check whether a given number is Palindrome or not using a while loop."
   ]
  },
  {
   "cell_type": "code",
   "execution_count": 15,
   "id": "12a3f7ac-085f-41c5-84f0-06fa4699eb9c",
   "metadata": {},
   "outputs": [
    {
     "name": "stdin",
     "output_type": "stream",
     "text": [
      "Enter your number: 1001\n"
     ]
    },
    {
     "name": "stdout",
     "output_type": "stream",
     "text": [
      "your num is palindrime\n"
     ]
    }
   ],
   "source": [
    "num = int(input(\"Enter your number:\"))\n",
    "temp = num\n",
    "reverse_num = 0\n",
    "while temp > 0 :\n",
    "    digit = temp % 10\n",
    "    reverse_num = reverse_num * 10 + digit\n",
    "    temp = temp // 10\n",
    "    \n",
    "if num == reverse_num :\n",
    "    print(\"your num is palindrime\")\n",
    "else:\n",
    "    print(\"your num is not palindrome\")"
   ]
  },
  {
   "cell_type": "markdown",
   "id": "fea4cb69-3b93-492a-8db3-20e7361da2e1",
   "metadata": {},
   "source": [
    "Q9. Write a code to print odd numbers from 1 to 100 using list comprehension.\n",
    "Note: Use a list comprehension to create a list from 1 to 100 and use another List comprehension to filter\n",
    "out odd numbers."
   ]
  },
  {
   "cell_type": "code",
   "execution_count": null,
   "id": "78675a15-8823-4a1d-8b2d-bc87fe63b8c2",
   "metadata": {},
   "outputs": [],
   "source": [
    "l1 = [i for i in range(1,101)]\n",
    "print(list(l1))"
   ]
  },
  {
   "cell_type": "code",
   "execution_count": null,
   "id": "3ae2fe3d-f6d2-487a-bd74-5f3d846ccf65",
   "metadata": {},
   "outputs": [],
   "source": [
    "l2 = [i for i in l1 if i % 2 != 0]\n",
    "print(list(l2))"
   ]
  }
 ],
 "metadata": {
  "kernelspec": {
   "display_name": "Python 3 (ipykernel)",
   "language": "python",
   "name": "python3"
  },
  "language_info": {
   "codemirror_mode": {
    "name": "ipython",
    "version": 3
   },
   "file_extension": ".py",
   "mimetype": "text/x-python",
   "name": "python",
   "nbconvert_exporter": "python",
   "pygments_lexer": "ipython3",
   "version": "3.10.8"
  }
 },
 "nbformat": 4,
 "nbformat_minor": 5
}
