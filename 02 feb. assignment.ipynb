{
 "cells": [
  {
   "cell_type": "markdown",
   "id": "47cf5e56-b5be-44d2-9949-627da3e96176",
   "metadata": {},
   "source": [
    "Q1. Explain with an example each when to use a for loop and a while loop."
   ]
  },
  {
   "cell_type": "code",
   "execution_count": 1,
   "id": "a6079dca-89da-4e29-80b0-cfbb4083e7b4",
   "metadata": {},
   "outputs": [
    {
     "name": "stdin",
     "output_type": "stream",
     "text": [
      "Enter your number: 5\n"
     ]
    },
    {
     "name": "stdout",
     "output_type": "stream",
     "text": [
      "120\n"
     ]
    }
   ],
   "source": [
    "# find factorial number using for look\n",
    "number = int(input(\"Enter your number:\"))\n",
    "factorial = 1\n",
    "for i in range(1, number+1):\n",
    "             factorial = factorial * i\n",
    "             number = number - 1\n",
    "print(factorial)\n",
    "             "
   ]
  },
  {
   "cell_type": "code",
   "execution_count": 9,
   "id": "dfd8971c-72c3-4a2c-b537-0f97eb19708f",
   "metadata": {},
   "outputs": [
    {
     "name": "stdin",
     "output_type": "stream",
     "text": [
      "Enter your number: 5\n"
     ]
    },
    {
     "name": "stdout",
     "output_type": "stream",
     "text": [
      "120\n"
     ]
    }
   ],
   "source": [
    "# find factorial number using while loop\n",
    "number = int(input(\"Enter your number:\"))\n",
    "factorial1 = 1\n",
    "while number > 0:\n",
    "    factorial1 = factorial1 * number \n",
    "    number = number - 1\n",
    "print(factorial1)"
   ]
  },
  {
   "cell_type": "code",
   "execution_count": null,
   "id": "04ac5670-56f4-4c60-9231-50532423c973",
   "metadata": {},
   "outputs": [],
   "source": []
  },
  {
   "cell_type": "markdown",
   "id": "e9274934-305f-4315-a5e4-d5e189f2c956",
   "metadata": {},
   "source": [
    "Q2. Write a python program to print the sum and product of the first 10 natural numbers using for\n",
    "and while"
   ]
  },
  {
   "cell_type": "code",
   "execution_count": 3,
   "id": "9e73241c-15e2-48a6-97dd-658d9f58d69e",
   "metadata": {},
   "outputs": [
    {
     "name": "stdout",
     "output_type": "stream",
     "text": [
      "55\n"
     ]
    }
   ],
   "source": [
    "# using for loop\n",
    "sum = 0\n",
    "for i in range (11):\n",
    "    sum = sum + i\n",
    "print(sum)\n"
   ]
  },
  {
   "cell_type": "code",
   "execution_count": 4,
   "id": "4a26050e-cdc5-41a8-bc43-11f0e3d20a46",
   "metadata": {},
   "outputs": [
    {
     "name": "stdout",
     "output_type": "stream",
     "text": [
      "55\n"
     ]
    }
   ],
   "source": [
    "# using while loop\n",
    "sum = 0\n",
    "num = 0\n",
    "while num <= 10:\n",
    "    sum = sum + num\n",
    "    num = num + 1\n",
    "print(sum)\n",
    "    "
   ]
  },
  {
   "cell_type": "code",
   "execution_count": null,
   "id": "8516f4e1-b4c6-41c6-8e61-51544cce9d01",
   "metadata": {},
   "outputs": [],
   "source": []
  },
  {
   "cell_type": "markdown",
   "id": "10dd94dc-fc5f-48e9-a793-896fc591dd20",
   "metadata": {},
   "source": [
    "Q3. Create a python program to compute the electricity bill for a household.\n",
    "The per-unit charges in rupees are as follows: For the first 100 units, the user will be charged Rs. 4.5 per\n",
    "unit, for the next 100 units, the user will be charged Rs. 6 per unit, and for the next 100 units, the user will\n",
    "be charged Rs. 10 per unit, After 300 units and above the user will be charged Rs. 20 per unit.\n",
    "\n",
    "You are required to take the units of electricity consumed in a month from the user as input.\n",
    "\n",
    "Your program must pass this test case: when the unit of electricity consumed by the user in a month is\n",
    "310, the total electricity bill should be 2250."
   ]
  },
  {
   "cell_type": "code",
   "execution_count": 5,
   "id": "263dc489-f556-46fa-94bd-65d65e81065d",
   "metadata": {},
   "outputs": [
    {
     "name": "stdin",
     "output_type": "stream",
     "text": [
      "Enter your consumed electricity per month in units :  301\n"
     ]
    },
    {
     "name": "stdout",
     "output_type": "stream",
     "text": [
      "electricity bill is :  2070.0 RS.\n"
     ]
    }
   ],
   "source": [
    "electricity_per_month = float( input(\"Enter your consumed electricity per month in units : \"))\n",
    "if electricity_per_month <= 100 :\n",
    "    print(\"electricity bill is : \" , (electricity_per_month * 4.5 ),\"RS.\")\n",
    "    \n",
    "elif electricity_per_month <= 200 and electricity_per_month > 100 :\n",
    "    print(\"electricity bill is : \" , (100 * 4.5 + (electricity_per_month - 100)*(6)),\"RS.\")\n",
    "    \n",
    "elif electricity_per_month <= 300 and electricity_per_month > 200 :\n",
    "    print(\"electricity bill is : \" , (100 * 4.5 + 100 * 6 + (electricity_per_month - 200) * (10) ),\"RS.\")\n",
    "    \n",
    "else :\n",
    "    print(\"electricity bill is : \" , (100 * 4.5 + 100 * 6 + 100 * 10 + (electricity_per_month - 300) * (20) ),\"RS.\")\n",
    "    "
   ]
  },
  {
   "cell_type": "code",
   "execution_count": null,
   "id": "1079046c-7cff-4859-93c8-f2a4a503843e",
   "metadata": {},
   "outputs": [],
   "source": []
  },
  {
   "cell_type": "markdown",
   "id": "06eb6474-77de-4fee-be87-f5aaee57ecc0",
   "metadata": {},
   "source": [
    "Q4. Create a list of numbers from 1 to 100. Use for loop and while loop to calculate the cube of each\n",
    "number and if the cube of that number is divisible by 4 or 5 then append that number in a list and print\n",
    "that list."
   ]
  },
  {
   "cell_type": "code",
   "execution_count": 6,
   "id": "670cc89a-b4f3-4c77-baa8-5fede1fbb823",
   "metadata": {},
   "outputs": [
    {
     "name": "stdout",
     "output_type": "stream",
     "text": [
      "[1, 2, 3, 4, 5, 6, 7, 8, 9, 10, 11, 12, 13, 14, 15, 16, 17, 18, 19, 20, 21, 22, 23, 24, 25, 26, 27, 28, 29, 30, 31, 32, 33, 34, 35, 36, 37, 38, 39, 40, 41, 42, 43, 44, 45, 46, 47, 48, 49, 50, 51, 52, 53, 54, 55, 56, 57, 58, 59, 60, 61, 62, 63, 64, 65, 66, 67, 68, 69, 70, 71, 72, 73, 74, 75, 76, 77, 78, 79, 80, 81, 82, 83, 84, 85, 86, 87, 88, 89, 90, 91, 92, 93, 94, 95, 96, 97, 98, 99, 100]\n"
     ]
    }
   ],
   "source": [
    "list =[]\n",
    "for i in range (1,101):\n",
    "    list.append(i)\n",
    "print(list)"
   ]
  },
  {
   "cell_type": "code",
   "execution_count": 7,
   "id": "155fa97c-1de9-4ca1-b669-9a265ee568ad",
   "metadata": {},
   "outputs": [
    {
     "name": "stdout",
     "output_type": "stream",
     "text": [
      "[1, 8, 27, 64, 125, 216, 343, 512, 729, 1000, 1331, 1728, 2197, 2744, 3375, 4096, 4913, 5832, 6859, 8000, 9261, 10648, 12167, 13824, 15625, 17576, 19683, 21952, 24389, 27000, 29791, 32768, 35937, 39304, 42875, 46656, 50653, 54872, 59319, 64000, 68921, 74088, 79507, 85184, 91125, 97336, 103823, 110592, 117649, 125000, 132651, 140608, 148877, 157464, 166375, 175616, 185193, 195112, 205379, 216000, 226981, 238328, 250047, 262144, 274625, 287496, 300763, 314432, 328509, 343000, 357911, 373248, 389017, 405224, 421875, 438976, 456533, 474552, 493039, 512000, 531441, 551368, 571787, 592704, 614125, 636056, 658503, 681472, 704969, 729000, 753571, 778688, 804357, 830584, 857375, 884736, 912673, 941192, 970299, 1000000]\n"
     ]
    }
   ],
   "source": [
    "# using for loop \n",
    "list1 = []\n",
    "for j in list :\n",
    "    qube = j ** 3\n",
    "    list1.append(qube)\n",
    "print(list1)"
   ]
  },
  {
   "cell_type": "code",
   "execution_count": 11,
   "id": "643eec84-3e52-4f8e-a347-b71a859c4e1f",
   "metadata": {},
   "outputs": [
    {
     "name": "stdout",
     "output_type": "stream",
     "text": [
      "[1, 8, 27, 64, 125, 216, 343, 512, 729, 1000, 1331, 1728, 2197, 2744, 3375, 4096, 4913, 5832, 6859, 8000, 9261, 10648, 12167, 13824, 15625, 17576, 19683, 21952, 24389, 27000, 29791, 32768, 35937, 39304, 42875, 46656, 50653, 54872, 59319, 64000, 68921, 74088, 79507, 85184, 91125, 97336, 103823, 110592, 117649, 125000, 132651, 140608, 148877, 157464, 166375, 175616, 185193, 195112, 205379, 216000, 226981, 238328, 250047, 262144, 274625, 287496, 300763, 314432, 328509, 343000, 357911, 373248, 389017, 405224, 421875, 438976, 456533, 474552, 493039, 512000, 531441, 551368, 571787, 592704, 614125, 636056, 658503, 681472, 704969, 729000, 753571, 778688, 804357, 830584, 857375, 884736, 912673, 941192, 970299, 1000000]\n"
     ]
    }
   ],
   "source": [
    "# using while loop\n",
    "list2 = []\n",
    "a = 1\n",
    "while a < 101:\n",
    "    qube = a ** 3\n",
    "    a = a + 1\n",
    "    list2.append(qube)\n",
    "    \n",
    "print(list2)"
   ]
  },
  {
   "cell_type": "code",
   "execution_count": 12,
   "id": "47cc1791-8b57-49de-b0e0-a351997d18d1",
   "metadata": {},
   "outputs": [
    {
     "name": "stdout",
     "output_type": "stream",
     "text": [
      "[8, 64, 125, 216, 512, 1000, 1728, 2744, 3375, 4096, 5832, 8000, 10648, 13824, 15625, 17576, 21952, 27000, 32768, 39304, 42875, 46656, 54872, 64000, 74088, 85184, 91125, 97336, 110592, 125000, 140608, 157464, 166375, 175616, 195112, 216000, 238328, 262144, 274625, 287496, 314432, 343000, 373248, 405224, 421875, 438976, 474552, 512000, 551368, 592704, 614125, 636056, 681472, 729000, 778688, 830584, 857375, 884736, 941192, 1000000]\n"
     ]
    }
   ],
   "source": [
    "list3 = []\n",
    "for i in list2:\n",
    "    if i % 4 == 0 or i % 5 == 0:\n",
    "        list3.append(i)\n",
    "print(list3)"
   ]
  },
  {
   "cell_type": "code",
   "execution_count": null,
   "id": "f55d25ae-436b-4e25-bf65-7f944e722f76",
   "metadata": {},
   "outputs": [],
   "source": []
  },
  {
   "cell_type": "markdown",
   "id": "22664681-1c94-4a03-8966-2a079de5976b",
   "metadata": {},
   "source": [
    "Q5. Write a program to filter count vowels in the below-given string.\n",
    "string = \"I want to become a data scientist\""
   ]
  },
  {
   "cell_type": "code",
   "execution_count": 13,
   "id": "be8b06c9-c6a2-4e12-91a7-e0f6f7d1e0ba",
   "metadata": {},
   "outputs": [
    {
     "name": "stdout",
     "output_type": "stream",
     "text": [
      "number of vowel in string is:  12\n"
     ]
    }
   ],
   "source": [
    "string = \" I want to become a data scientist\"\n",
    "vowel_count = 0\n",
    "vowel = \"AEIOUaeiou\"\n",
    "for char in string:\n",
    "    if char in vowel:\n",
    "        vowel_count += 1\n",
    "print(\"number of vowel in string is: \", vowel_count) \n",
    "        "
   ]
  },
  {
   "cell_type": "markdown",
   "id": "6a6d0b21-4154-40c7-a031-5c57ce1f8919",
   "metadata": {},
   "source": [
    "# thank you.."
   ]
  }
 ],
 "metadata": {
  "kernelspec": {
   "display_name": "Python 3 (ipykernel)",
   "language": "python",
   "name": "python3"
  },
  "language_info": {
   "codemirror_mode": {
    "name": "ipython",
    "version": 3
   },
   "file_extension": ".py",
   "mimetype": "text/x-python",
   "name": "python",
   "nbconvert_exporter": "python",
   "pygments_lexer": "ipython3",
   "version": "3.10.8"
  }
 },
 "nbformat": 4,
 "nbformat_minor": 5
}
